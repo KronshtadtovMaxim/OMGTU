{
 "cells": [
  {
   "cell_type": "code",
   "execution_count": 120,
   "metadata": {
    "dotnet_interactive": {
     "language": "csharp"
    },
    "polyglot_notebook": {
     "kernelName": "csharp"
    }
   },
   "outputs": [
    {
     "ename": "Error",
     "evalue": "(8,5): error CS0200: Property or indexer 'string.this[int]' cannot be assigned to -- it is read only",
     "output_type": "error",
     "traceback": [
      "(8,5): error CS0200: Property or indexer 'string.this[int]' cannot be assigned to -- it is read only"
     ]
    }
   ],
   "source": [
    "using System.Diagnostics;\n",
    "Random random = new Random();\n",
    "Stopwatch timer = Stopwatch.StartNew();\n",
    "string b = \"abcdefgfdg\";\n",
    "string c = \"abcdefghklmnopqrstuwxyz\";\n",
    "for (int i = 0; i < 1000000; i++)\n",
    "{\n",
    "    b[i%10] = Convert.ToString(c[random.Next(c.Length - 1)]);\n",
    "}\n",
    "timer.Stop();\n",
    "Console.WriteLine(b);\n",
    "Console.WriteLine(timer);\n"
   ]
  },
  {
   "cell_type": "code",
   "execution_count": 130,
   "metadata": {},
   "outputs": [
    {
     "name": "stdout",
     "output_type": "stream",
     "text": [
      "wrhhlbfnde\n",
      "00:00:00.0135718\n"
     ]
    }
   ],
   "source": [
    "using System.Diagnostics;\n",
    "Random random = new Random();\n",
    "Stopwatch timer = Stopwatch.StartNew();\n",
    "StringBuilder b = new StringBuilder(\"abcdefgfdg\");\n",
    "string c = \"abcdefghklmnopqrstuwxyz\";\n",
    "for (int i = 0; i < 1000000; i++)\n",
    "{\n",
    "    b[i%10] = c[random.Next(c.Length - 1)];;\n",
    "}\n",
    "timer.Stop();\n",
    "Console.WriteLine(b);\n",
    "Console.WriteLine(timer);"
   ]
  },
  {
   "cell_type": "code",
   "execution_count": 122,
   "metadata": {},
   "outputs": [
    {
     "name": "stdout",
     "output_type": "stream",
     "text": [
      "23:22:46\n",
      "06:56:45\n"
     ]
    }
   ],
   "source": [
    "using System.Text.RegularExpressions;\n",
    "string pattern = @\"^([01][0-9]|2[0-3]):[0-5][0-9]:[0-5][0-9]$\";\n",
    "string[] examples = {\"23:22:46\", \"06:56:45\", \"13:45:134\", \"26:45:38\", \"13:00\", \"13sd\"};\n",
    "foreach(string example in examples)\n",
    "{\n",
    "    if(Regex.IsMatch(example, pattern)) Console.WriteLine(example);\n",
    "}\n",
    " "
   ]
  },
  {
   "cell_type": "code",
   "execution_count": 123,
   "metadata": {},
   "outputs": [
    {
     "name": "stdout",
     "output_type": "stream",
     "text": [
      "ghdjgdhj@mail.ru\n",
      "_sdffs@mail.ru\n"
     ]
    }
   ],
   "source": [
    "string pattern1 = @\"^[a-zA-Z0-9._-]+@([a-zA-Z0-9]+([a-zA-Z0-9])*\\.)+[a-zA-Z]{2,}$\";\n",
    "string[] examples1 = {\"ghdjgdhj@mail.ru\", \"_sdffs@mail.ru\", \"fdjkjkfd@mail-dms.ru\", \"sdhjkafsh@mail-com\", \"shfshjfhjmail.ru\", \"fhjfdjhhfjd@mail.-.24\"};\n",
    "foreach(string example in examples1)\n",
    "{\n",
    "    if(Regex.IsMatch(example, pattern1)) Console.WriteLine(example);\n",
    "}"
   ]
  }
 ],
 "metadata": {
  "kernelspec": {
   "display_name": ".NET (C#)",
   "language": "C#",
   "name": ".net-csharp"
  },
  "polyglot_notebook": {
   "kernelInfo": {
    "defaultKernelName": "csharp",
    "items": [
     {
      "aliases": [],
      "languageName": "csharp",
      "name": "csharp"
     }
    ]
   }
  }
 },
 "nbformat": 4,
 "nbformat_minor": 2
}
