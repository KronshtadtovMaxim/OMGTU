{
 "cells": [
  {
   "cell_type": "code",
   "execution_count": 44,
   "metadata": {
    "dotnet_interactive": {
     "language": "csharp"
    },
    "polyglot_notebook": {
     "kernelName": "csharp"
    }
   },
   "outputs": [
    {
     "name": "stdout",
     "output_type": "stream",
     "text": [
      "\n",
      "\n",
      "Тип Microsoft.CodeAnalysis.EmbeddedAttribute: \n",
      "\n",
      "Имя метода: Equals, тип данных: Boolean, параметры:  Object obj \n",
      "Имя метода: GetHashCode, тип данных: Int32, параметры: \n",
      "Имя метода: get_TypeId, тип данных: Object, параметры: \n",
      "Имя метода: Match, тип данных: Boolean, параметры:  Object obj \n",
      "Имя метода: IsDefaultAttribute, тип данных: Boolean, параметры: \n",
      "Имя метода: GetType, тип данных: Type, параметры: \n",
      "Имя метода: ToString, тип данных: String, параметры: \n",
      "\n",
      "Тип System.Runtime.CompilerServices.NullableAttribute: \n",
      "\n",
      "Имя метода: Equals, тип данных: Boolean, параметры:  Object obj \n",
      "Имя метода: GetHashCode, тип данных: Int32, параметры: \n",
      "Имя метода: get_TypeId, тип данных: Object, параметры: \n",
      "Имя метода: Match, тип данных: Boolean, параметры:  Object obj \n",
      "Имя метода: IsDefaultAttribute, тип данных: Boolean, параметры: \n",
      "Имя метода: GetType, тип данных: Type, параметры: \n",
      "Имя метода: ToString, тип данных: String, параметры: \n",
      "\n",
      "Тип System.Runtime.CompilerServices.NullableContextAttribute: \n",
      "\n",
      "Имя метода: Equals, тип данных: Boolean, параметры:  Object obj \n",
      "Имя метода: GetHashCode, тип данных: Int32, параметры: \n",
      "Имя метода: get_TypeId, тип данных: Object, параметры: \n",
      "Имя метода: Match, тип данных: Boolean, параметры:  Object obj \n",
      "Имя метода: IsDefaultAttribute, тип данных: Boolean, параметры: \n",
      "Имя метода: GetType, тип данных: Type, параметры: \n",
      "Имя метода: ToString, тип данных: String, параметры: \n",
      "\n",
      "Тип HWdTech.ICommand: \n",
      "\n",
      "Имя метода: Execute, тип данных: Void, параметры: \n",
      "\n",
      "Тип HWdTech.IoC: \n",
      "\n",
      "Имя метода: Resolve, тип данных: T, параметры:  String dependency  Object[] args \n",
      "Имя метода: GetType, тип данных: Type, параметры: \n",
      "Имя метода: ToString, тип данных: String, параметры: \n",
      "Имя метода: Equals, тип данных: Boolean, параметры:  Object obj \n",
      "Имя метода: GetHashCode, тип данных: Int32, параметры: \n",
      "\n",
      "Тип HWdTech.IoC+SetupCommand: \n",
      "\n",
      "Имя метода: Execute, тип данных: Void, параметры: \n",
      "Имя метода: GetType, тип данных: Type, параметры: \n",
      "Имя метода: ToString, тип данных: String, параметры: \n",
      "Имя метода: Equals, тип данных: Boolean, параметры:  Object obj \n",
      "Имя метода: GetHashCode, тип данных: Int32, параметры: \n",
      "\n",
      "Тип HWdTech.IoC+<>c: \n",
      "\n",
      "Имя метода: GetType, тип данных: Type, параметры: \n",
      "Имя метода: ToString, тип данных: String, параметры: \n",
      "Имя метода: Equals, тип данных: Boolean, параметры:  Object obj \n",
      "Имя метода: GetHashCode, тип данных: Int32, параметры: "
     ]
    }
   ],
   "source": [
    "using System.Diagnostics;\n",
    "using System.Reflection;\n",
    "\n",
    "        Assembly a = Assembly.LoadFrom(@\"C:\\\\Users\\\\User\\\\source\\\\repos\\\\Reflelction\\\\bin\\\\Debug\\\\net7.0\\\\core.dll\");\n",
    "        foreach (Type b in a.GetTypes())\n",
    "        {\n",
    "            Console.WriteLine();\n",
    "            Console.WriteLine($\"\\nТип {b}: \");\n",
    "            MethodInfo[] c = b.GetMethods();\n",
    "            foreach (MethodInfo m in c)\n",
    "            {\n",
    "                ParameterInfo[] ssss = m.GetParameters();\n",
    "                Console.Write($\"\\nИмя метода: {m.Name}, тип данных: {m.ReturnType.Name}, параметры: \");\n",
    "                foreach(ParameterInfo mm in ssss) {Console.Write($\" {mm.ParameterType.Name} {mm.Name} \");}\n",
    "            }\n",
    "        }"
   ]
  }
 ],
 "metadata": {
  "kernelspec": {
   "display_name": ".NET (C#)",
   "language": "C#",
   "name": ".net-csharp"
  },
  "polyglot_notebook": {
   "kernelInfo": {
    "defaultKernelName": "csharp",
    "items": [
     {
      "aliases": [],
      "languageName": "csharp",
      "name": "csharp"
     }
    ]
   }
  }
 },
 "nbformat": 4,
 "nbformat_minor": 2
}
